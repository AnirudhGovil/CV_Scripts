{
 "cells": [
  {
   "cell_type": "code",
   "execution_count": 1,
   "metadata": {},
   "outputs": [],
   "source": [
    "# import libraries\n",
    "%matplotlib tk\n",
    "import cv2\n",
    "import utils\n",
    "import numpy as np\n",
    "\n",
    "# imgpath = 'topdown1.png'\n",
    "imgpath = 'fronton1.png'\n",
    "image = cv2.imread(imgpath)"
   ]
  },
  {
   "cell_type": "code",
   "execution_count": 2,
   "metadata": {},
   "outputs": [],
   "source": [
    "# Interactive window to collect points from the image\n",
    "image_points = []\n",
    "image_points = utils.interactive_clicking_and_saving(image, image_points)"
   ]
  },
  {
   "cell_type": "code",
   "execution_count": 3,
   "metadata": {},
   "outputs": [],
   "source": [
    "utils.display_image_with_points(image, image_points)"
   ]
  },
  {
   "cell_type": "code",
   "execution_count": 6,
   "metadata": {},
   "outputs": [],
   "source": [
    "# Save the points to a file\n",
    "np.savetxt(f'{imgpath[:-4]}_image_points.txt', image_points)"
   ]
  },
  {
   "cell_type": "code",
   "execution_count": null,
   "metadata": {},
   "outputs": [],
   "source": []
  }
 ],
 "metadata": {
  "kernelspec": {
   "display_name": "cv",
   "language": "python",
   "name": "python3"
  },
  "language_info": {
   "codemirror_mode": {
    "name": "ipython",
    "version": 3
   },
   "file_extension": ".py",
   "mimetype": "text/x-python",
   "name": "python",
   "nbconvert_exporter": "python",
   "pygments_lexer": "ipython3",
   "version": "3.12.1"
  },
  "orig_nbformat": 4,
  "vscode": {
   "interpreter": {
    "hash": "b0cb10faa27313cf44072049057c4c1051c53af46fbaf90317865a5b5acaef46"
   }
  }
 },
 "nbformat": 4,
 "nbformat_minor": 2
}
