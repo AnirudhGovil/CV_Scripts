{
 "cells": [
  {
   "cell_type": "code",
   "execution_count": 1,
   "metadata": {},
   "outputs": [],
   "source": [
    "import numpy as np\n",
    "%matplotlib qt \n",
    "import matplotlib.pyplot as plt\n",
    "import matplotlib.image as mpimg\n",
    "import cv2\n",
    "import pickle\n",
    "import utils"
   ]
  },
  {
   "cell_type": "code",
   "execution_count": 2,
   "metadata": {},
   "outputs": [],
   "source": [
    "topdown_points = np.loadtxt('topdown1_undistorted_image_points.txt')\n",
    "topdown_points = np.array(topdown_points, dtype=np.float32)\n",
    "fronton_points = np.loadtxt('fronton1_undistorted_image_points.txt')\n",
    "fronton_points = np.array(fronton_points, dtype=np.float32)\n",
    "world_points = np.loadtxt('world_points_3D.txt')\n",
    "world_points = np.array(world_points, dtype=np.float32)\n",
    "topdown_camera = pickle.load(open('topdown1_camera_object.pkl', 'rb'))\n",
    "fronton_camera = pickle.load(open('fronton1_camera_object.pkl', 'rb'))\n"
   ]
  },
  {
   "cell_type": "code",
   "execution_count": 3,
   "metadata": {},
   "outputs": [],
   "source": [
    "# Set Rotation and Translation Matrices\n",
    "\n",
    "topdown_camera.set_rotation_and_translation_vectors(world_points, topdown_points)\n",
    "fronton_camera.set_rotation_and_translation_vectors(world_points, fronton_points)"
   ]
  },
  {
   "cell_type": "code",
   "execution_count": 4,
   "metadata": {},
   "outputs": [
    {
     "name": "stdout",
     "output_type": "stream",
     "text": [
      "Triangulation error:  0.12082623723614272\n"
     ]
    }
   ],
   "source": [
    "# Triangulate points \n",
    "\n",
    "triangulated_points = utils.triangulate(topdown_points, topdown_camera, fronton_points, fronton_camera)\n",
    "\n",
    "# Plot 3D points\n",
    "\n",
    "utils.visualize_triangulated_points(triangulated_points, world_points)\n",
    "\n",
    "# Get triangulation error\n",
    "\n",
    "print('Triangulation error: ', np.linalg.norm(triangulated_points - world_points, axis=0).mean())\n",
    "    "
   ]
  },
  {
   "cell_type": "code",
   "execution_count": 13,
   "metadata": {},
   "outputs": [],
   "source": [
    "# Select new points to triangulate\n",
    "\n",
    "imgpath = 'fronton1.png'\n",
    "image = cv2.imread(imgpath)\n",
    "# Interactive window to collect points from the image\n",
    "fronton_selected = []\n",
    "fronton_selected = utils.interactive_clicking_and_saving(image, fronton_selected)\n"
   ]
  },
  {
   "cell_type": "code",
   "execution_count": 14,
   "metadata": {},
   "outputs": [],
   "source": [
    "\n",
    "utils.display_image_with_points(image, fronton_selected)"
   ]
  },
  {
   "cell_type": "code",
   "execution_count": 15,
   "metadata": {},
   "outputs": [],
   "source": [
    "# Select new points to triangulate\n",
    "\n",
    "imgpath = 'topdown1.png'\n",
    "image = cv2.imread(imgpath)\n",
    "# Interactive window to collect points from the image\n",
    "topdown_selected = []\n",
    "topdown_selected = utils.interactive_clicking_and_saving(image, topdown_selected)"
   ]
  },
  {
   "cell_type": "code",
   "execution_count": 16,
   "metadata": {},
   "outputs": [],
   "source": [
    "utils.display_image_with_points(image, topdown_selected)"
   ]
  },
  {
   "cell_type": "code",
   "execution_count": 17,
   "metadata": {},
   "outputs": [
    {
     "name": "stdout",
     "output_type": "stream",
     "text": [
      "Triangulation error:  0.20104567310344512\n"
     ]
    }
   ],
   "source": [
    "# Dewarp both points\n",
    "\n",
    "dewarped_topdown_selected = cv2.undistortPoints(np.array([topdown_selected]), topdown_camera.camera_matrix, topdown_camera.distortion_coefficients, P=topdown_camera.new_camera_matrix).reshape(-1,2)\n",
    "dewarped_fronton_selected = cv2.undistortPoints(np.array([fronton_selected]), fronton_camera.camera_matrix, fronton_camera.distortion_coefficients, P=fronton_camera.new_camera_matrix).reshape(-1,2)\n",
    "\n",
    "triangulated_points = utils.triangulate(dewarped_topdown_selected, topdown_camera, dewarped_fronton_selected, fronton_camera)\n",
    "\n",
    "# Visualize the new triangulated points\n",
    "NET_Y = 0.76 + 3.96 + 1.98\n",
    "NET_HEIGHT = 1.55\n",
    "RIGHT_BOUNDARY_X = 0.46 + 2.59 + 2.59 + 0.46\n",
    "new_world_points = np.array([[0 ,NET_Y, NET_HEIGHT],[ RIGHT_BOUNDARY_X,NET_Y ,NET_HEIGHT]])\n",
    "\n",
    "utils.visualize_triangulated_points(triangulated_points, new_world_points)\n",
    "\n",
    "# Get triangulation error\n",
    "\n",
    "print('Triangulation error: ', np.linalg.norm(triangulated_points - new_world_points, axis=0).mean())\n"
   ]
  },
  {
   "cell_type": "code",
   "execution_count": null,
   "metadata": {},
   "outputs": [],
   "source": []
  }
 ],
 "metadata": {
  "kernelspec": {
   "display_name": "cv",
   "language": "python",
   "name": "python3"
  },
  "language_info": {
   "codemirror_mode": {
    "name": "ipython",
    "version": 3
   },
   "file_extension": ".py",
   "mimetype": "text/x-python",
   "name": "python",
   "nbconvert_exporter": "python",
   "pygments_lexer": "ipython3",
   "version": "3.12.1"
  },
  "orig_nbformat": 4
 },
 "nbformat": 4,
 "nbformat_minor": 2
}
