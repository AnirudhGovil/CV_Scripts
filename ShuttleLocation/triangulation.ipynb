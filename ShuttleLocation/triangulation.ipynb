{
 "cells": [
  {
   "cell_type": "code",
   "execution_count": 9,
   "metadata": {},
   "outputs": [],
   "source": [
    "import numpy as np\n",
    "%matplotlib qt \n",
    "import matplotlib.pyplot as plt\n",
    "import matplotlib.image as mpimg\n",
    "import cv2\n",
    "import pickle\n",
    "import utils"
   ]
  },
  {
   "cell_type": "code",
   "execution_count": 10,
   "metadata": {},
   "outputs": [],
   "source": [
    "image1_path = 'frame1.png'\n",
    "image2_path = 'frame_1.png'\n",
    "\n",
    "\n",
    "image1_points = np.loadtxt(f'{image1_path[:-4]}_undistorted_image_points.txt')\n",
    "image1_points = np.array(image1_points, dtype=np.float32)\n",
    "image2_points = np.loadtxt(f'{image2_path[:-4]}_undistorted_image_points.txt')\n",
    "image2_points = np.array(image2_points, dtype=np.float32)\n",
    "world_points = np.loadtxt('world_points_3D.txt')\n",
    "world_points = np.array(world_points, dtype=np.float32)\n",
    "image1_camera = pickle.load(open(f'{image1_path[:-4]}_camera_object.pkl', 'rb'))\n",
    "image2_camera = pickle.load(open(f'{image2_path[:-4]}_camera_object.pkl', 'rb'))\n"
   ]
  },
  {
   "cell_type": "code",
   "execution_count": 11,
   "metadata": {},
   "outputs": [
    {
     "name": "stdout",
     "output_type": "stream",
     "text": [
      "Triangulation error:  0.6478642706230918\n"
     ]
    }
   ],
   "source": [
    "# Triangulate points \n",
    "\n",
    "triangulated_points = utils.triangulate(image1_points, image1_camera, image2_points, image2_camera)\n",
    "\n",
    "# Plot 3D points\n",
    "\n",
    "utils.visualize_triangulated_points(triangulated_points, world_points)\n",
    "\n",
    "# Get triangulation error\n",
    "\n",
    "print('Triangulation error: ', np.linalg.norm(triangulated_points - world_points, axis=0).mean())\n",
    "    "
   ]
  },
  {
   "cell_type": "code",
   "execution_count": 4,
   "metadata": {},
   "outputs": [],
   "source": [
    "# Select new points to triangulate\n",
    "\n",
    "image1 = cv2.imread(image1_path)\n",
    "# Interactive window to collect points from the image\n",
    "image1_selected = []\n",
    "image1_selected = utils.interactive_clicking_and_saving(image1, image1_selected)\n"
   ]
  },
  {
   "cell_type": "code",
   "execution_count": 5,
   "metadata": {},
   "outputs": [],
   "source": [
    "\n",
    "utils.display_image_with_points(image1, image1_selected)"
   ]
  },
  {
   "cell_type": "code",
   "execution_count": 6,
   "metadata": {},
   "outputs": [],
   "source": [
    "# Select new points to triangulate\n",
    "\n",
    "image2 = cv2.imread(image2_path)\n",
    "# Interactive window to collect points from the image\n",
    "image2_selected = []\n",
    "image2_selected = utils.interactive_clicking_and_saving(image2, image2_selected)"
   ]
  },
  {
   "cell_type": "code",
   "execution_count": 7,
   "metadata": {},
   "outputs": [],
   "source": [
    "utils.display_image_with_points(image2, image2_selected)"
   ]
  },
  {
   "cell_type": "code",
   "execution_count": 8,
   "metadata": {},
   "outputs": [
    {
     "name": "stdout",
     "output_type": "stream",
     "text": [
      "Triangulation error:  0.3646356566856905\n"
     ]
    }
   ],
   "source": [
    "# Dewarp both points\n",
    "\n",
    "dewarped_topdown_selected = cv2.undistortPoints(np.array([image1_selected]), image1_camera.camera_matrix, image1_camera.distortion_coefficients, P=image1_camera.new_camera_matrix).reshape(-1,2)\n",
    "dewarped_fronton_selected = cv2.undistortPoints(np.array([image2_selected]), image2_camera.camera_matrix, image2_camera.distortion_coefficients, P=image2_camera.new_camera_matrix).reshape(-1,2)\n",
    "\n",
    "triangulated_points = utils.triangulate(dewarped_topdown_selected, image1_camera, dewarped_fronton_selected, image2_camera)\n",
    "\n",
    "# Visualize the new triangulated points\n",
    "NET_Y = 0.76 + 3.96 + 1.98\n",
    "NET_HEIGHT = 1.55\n",
    "RIGHT_BOUNDARY_X = 0.46 + 2.59 + 2.59 + 0.46\n",
    "new_world_points = np.array([[0 ,NET_Y, NET_HEIGHT],[ RIGHT_BOUNDARY_X,NET_Y ,NET_HEIGHT]])\n",
    "\n",
    "utils.visualize_triangulated_points(triangulated_points, new_world_points)\n",
    "\n",
    "# Get triangulation error\n",
    "\n",
    "print('Triangulation error: ', np.linalg.norm(triangulated_points - new_world_points, axis=0).mean())\n"
   ]
  },
  {
   "cell_type": "code",
   "execution_count": null,
   "metadata": {},
   "outputs": [],
   "source": []
  }
 ],
 "metadata": {
  "kernelspec": {
   "display_name": "cv",
   "language": "python",
   "name": "python3"
  },
  "language_info": {
   "codemirror_mode": {
    "name": "ipython",
    "version": 3
   },
   "file_extension": ".py",
   "mimetype": "text/x-python",
   "name": "python",
   "nbconvert_exporter": "python",
   "pygments_lexer": "ipython3",
   "version": "3.12.1"
  },
  "orig_nbformat": 4
 },
 "nbformat": 4,
 "nbformat_minor": 2
}
