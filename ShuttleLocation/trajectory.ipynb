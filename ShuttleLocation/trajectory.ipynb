{
 "cells": [
  {
   "cell_type": "code",
   "execution_count": 1,
   "metadata": {},
   "outputs": [],
   "source": [
    "%matplotlib tk\n",
    "import cv2\n",
    "import os\n",
    "\n",
    "#grab last 5 characters of the file name:\n",
    "def last_4chars(x):\n",
    "    return(x[-5:])\n",
    "\n",
    " \n",
    "\n",
    "def record_points(folder_path, coordinates):\n",
    "    image_files = [f for f in os.listdir(folder_path) if f.endswith(('.jpg', '.jpeg', '.png'))]\n",
    "    image_files = sorted(image_files, key = last_4chars) \n",
    "\n",
    "    for image_file in image_files:\n",
    "        image_path = os.path.join(folder_path, image_file)\n",
    "        image = cv2.imread(image_path)\n",
    "\n",
    "        def click_event(event, x, y, flags, param):\n",
    "            if event == cv2.EVENT_LBUTTONDOWN:\n",
    "                coordinates.append((x, y))\n",
    "                print(x, y)\n",
    "                cv2.circle(image, (x, y), 3, (0, 0, 255), -1)\n",
    "                cv2.imshow(image_file, image)\n",
    "\n",
    "        cv2.namedWindow(image_file)\n",
    "        cv2.setMouseCallback(image_file, click_event)\n",
    "\n",
    "        while True:\n",
    "            cv2.imshow(image_file, image)\n",
    "            if cv2.waitKey(1) & 0xFF == ord('q'):\n",
    "                break\n",
    "\n",
    "        cv2.destroyAllWindows()\n",
    "\n",
    "# Provide the folder path where the images are located\n",
    "\n",
    "\n"
   ]
  },
  {
   "cell_type": "code",
   "execution_count": 2,
   "metadata": {},
   "outputs": [
    {
     "name": "stdout",
     "output_type": "stream",
     "text": [
      "532 505\n",
      "554 517\n",
      "553 516\n",
      "573 527\n",
      "594 543\n",
      "[(532, 505), (554, 517), (553, 516), (573, 527), (594, 543)]\n"
     ]
    }
   ],
   "source": [
    "folder1_path = \"video1_frames\"\n",
    "trajectory_in_folder1 = []\n",
    "record_points(folder1_path, trajectory_in_folder1)\n",
    "print(trajectory_in_folder1)"
   ]
  },
  {
   "cell_type": "code",
   "execution_count": 3,
   "metadata": {},
   "outputs": [
    {
     "name": "stdout",
     "output_type": "stream",
     "text": [
      "552 615\n",
      "575 639\n",
      "594 661\n",
      "614 685\n",
      "635 711\n",
      "[(552, 615), (575, 639), (594, 661), (614, 685), (635, 711)]\n"
     ]
    }
   ],
   "source": [
    "\n",
    "folder2_path = \"video2_frames\"\n",
    "trajectory_in_folder2 = []\n",
    "record_points(folder2_path, trajectory_in_folder2)\n",
    "print(trajectory_in_folder2)"
   ]
  },
  {
   "cell_type": "code",
   "execution_count": 4,
   "metadata": {},
   "outputs": [],
   "source": [
    "image1_path = 'frame1.png'\n",
    "image2_path = 'frame_1.png'\n",
    "import pickle\n",
    "import utils\n",
    "image1_camera = pickle.load(open(f'{image1_path[:-4]}_camera_object.pkl', 'rb'))\n",
    "image2_camera = pickle.load(open(f'{image2_path[:-4]}_camera_object.pkl', 'rb'))"
   ]
  },
  {
   "cell_type": "code",
   "execution_count": 5,
   "metadata": {},
   "outputs": [],
   "source": [
    "triangulated_points = utils.triangulate(trajectory_in_folder1, image1_camera, trajectory_in_folder2, image2_camera)\n",
    "utils.visualize_triangulated_points(triangulated_points, None)"
   ]
  },
  {
   "cell_type": "code",
   "execution_count": null,
   "metadata": {},
   "outputs": [],
   "source": []
  }
 ],
 "metadata": {
  "kernelspec": {
   "display_name": "gametheory",
   "language": "python",
   "name": "python3"
  },
  "language_info": {
   "codemirror_mode": {
    "name": "ipython",
    "version": 3
   },
   "file_extension": ".py",
   "mimetype": "text/x-python",
   "name": "python",
   "nbconvert_exporter": "python",
   "pygments_lexer": "ipython3",
   "version": "3.12.1"
  }
 },
 "nbformat": 4,
 "nbformat_minor": 2
}
